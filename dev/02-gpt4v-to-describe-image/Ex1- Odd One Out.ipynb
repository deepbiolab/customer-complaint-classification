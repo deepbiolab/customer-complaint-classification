{
 "cells": [
  {
   "cell_type": "code",
   "execution_count": 2,
   "metadata": {},
   "outputs": [],
   "source": [
    "# Important: Don't forget to update this\n",
    "# tips: for instruction how to find below information see folder: 01-connect-genai-models-with-sdk\n",
    "\n",
    "AZURE_OPENAI_API_KEY = \"\"\n",
    "AZURE_OPENAI_ENDPOINT = \"\"\n",
    "\n",
    "GPT_DEPLOYMENT = \"\"\n",
    "GPT_VERSION = \"\"\n",
    "DALLE_DEPLOYMENT = \"\"\n",
    "DALLE_VERSION = \"\""
   ]
  },
  {
   "cell_type": "markdown",
   "metadata": {},
   "source": [
    "## Odd One Out"
   ]
  },
  {
   "cell_type": "code",
   "execution_count": 3,
   "metadata": {},
   "outputs": [],
   "source": [
    "from utils import create_openai_client, describe_local_image, describe_online_image"
   ]
  },
  {
   "cell_type": "code",
   "execution_count": 4,
   "metadata": {},
   "outputs": [],
   "source": [
    "gpt4v = create_openai_client(GPT_VERSION, AZURE_OPENAI_API_KEY, AZURE_OPENAI_ENDPOINT)"
   ]
  },
  {
   "cell_type": "code",
   "execution_count": 9,
   "metadata": {},
   "outputs": [],
   "source": [
    "prompt = \"\"\"you are a fruit master, this image have some fruits on the table lined up, \n",
    "and you will find the odd fruit which different with others\n",
    "in this image, and output should like this:\n",
    "position: <number>\n",
    "fruit: <fruit name>\n",
    "reason: <reason>\n",
    "\"\"\""
   ]
  },
  {
   "cell_type": "code",
   "execution_count": 10,
   "metadata": {},
   "outputs": [],
   "source": [
    "image_url = \"https://cdn.pixabay.com/photo/2017/08/13/12/59/fruit-2637058_1280.jpg\""
   ]
  },
  {
   "cell_type": "code",
   "execution_count": 11,
   "metadata": {},
   "outputs": [],
   "source": [
    "response = describe_online_image(\n",
    "    gpt4v, image_url, GPT_DEPLOYMENT, prompt)"
   ]
  },
  {
   "cell_type": "code",
   "execution_count": 14,
   "metadata": {},
   "outputs": [
    {
     "name": "stdout",
     "output_type": "stream",
     "text": [
      "('position: 4\\n'\n",
      " 'fruit: Apple\\n'\n",
      " 'reason: All the other fruits in the image are pears, making the apple the '\n",
      " 'odd one out due to its different type and shape.')\n"
     ]
    }
   ],
   "source": [
    "from pprint import pprint\n",
    "pprint(response)"
   ]
  },
  {
   "cell_type": "code",
   "execution_count": null,
   "metadata": {},
   "outputs": [],
   "source": []
  }
 ],
 "metadata": {
  "kernelspec": {
   "display_name": "vision",
   "language": "python",
   "name": "python3"
  },
  "language_info": {
   "codemirror_mode": {
    "name": "ipython",
    "version": 3
   },
   "file_extension": ".py",
   "mimetype": "text/x-python",
   "name": "python",
   "nbconvert_exporter": "python",
   "pygments_lexer": "ipython3",
   "version": "3.10.15"
  }
 },
 "nbformat": 4,
 "nbformat_minor": 2
}
